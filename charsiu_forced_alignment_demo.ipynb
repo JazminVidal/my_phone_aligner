{
  "nbformat": 4,
  "nbformat_minor": 0,
  "metadata": {
    "kernelspec": {
      "display_name": "Python 3",
      "language": "python",
      "name": "python3"
    },
    "language_info": {
      "codemirror_mode": {
        "name": "ipython",
        "version": 3
      },
      "file_extension": ".py",
      "mimetype": "text/x-python",
      "name": "python",
      "nbconvert_exporter": "python",
      "pygments_lexer": "ipython3",
      "version": "3.8.5"
    },
    "colab": {
      "name": "charsiu_demo.ipynb",
      "provenance": []
    },
    "widgets": {
      "application/vnd.jupyter.widget-state+json": {
        "e9106d4fd53d40848983eedf4201f3b1": {
          "model_module": "@jupyter-widgets/controls",
          "model_name": "HBoxModel",
          "model_module_version": "1.5.0",
          "state": {
            "_view_name": "HBoxView",
            "_dom_classes": [],
            "_model_name": "HBoxModel",
            "_view_module": "@jupyter-widgets/controls",
            "_model_module_version": "1.5.0",
            "_view_count": null,
            "_view_module_version": "1.5.0",
            "box_style": "",
            "layout": "IPY_MODEL_eb1f0de5b796495e97232425d569d35b",
            "_model_module": "@jupyter-widgets/controls",
            "children": [
              "IPY_MODEL_d023cce86be547b1b76003f90c781ddc",
              "IPY_MODEL_9b335449d2684031a1f31a90fb34c52f",
              "IPY_MODEL_8b8630f0949a415a90ecc683b8a69ec7"
            ]
          }
        },
        "eb1f0de5b796495e97232425d569d35b": {
          "model_module": "@jupyter-widgets/base",
          "model_name": "LayoutModel",
          "model_module_version": "1.2.0",
          "state": {
            "_view_name": "LayoutView",
            "grid_template_rows": null,
            "right": null,
            "justify_content": null,
            "_view_module": "@jupyter-widgets/base",
            "overflow": null,
            "_model_module_version": "1.2.0",
            "_view_count": null,
            "flex_flow": null,
            "width": null,
            "min_width": null,
            "border": null,
            "align_items": null,
            "bottom": null,
            "_model_module": "@jupyter-widgets/base",
            "top": null,
            "grid_column": null,
            "overflow_y": null,
            "overflow_x": null,
            "grid_auto_flow": null,
            "grid_area": null,
            "grid_template_columns": null,
            "flex": null,
            "_model_name": "LayoutModel",
            "justify_items": null,
            "grid_row": null,
            "max_height": null,
            "align_content": null,
            "visibility": null,
            "align_self": null,
            "height": null,
            "min_height": null,
            "padding": null,
            "grid_auto_rows": null,
            "grid_gap": null,
            "max_width": null,
            "order": null,
            "_view_module_version": "1.2.0",
            "grid_template_areas": null,
            "object_position": null,
            "object_fit": null,
            "grid_auto_columns": null,
            "margin": null,
            "display": null,
            "left": null
          }
        },
        "d023cce86be547b1b76003f90c781ddc": {
          "model_module": "@jupyter-widgets/controls",
          "model_name": "HTMLModel",
          "model_module_version": "1.5.0",
          "state": {
            "_view_name": "HTMLView",
            "style": "IPY_MODEL_a700ef1aa5084184a04d975fc1ad1243",
            "_dom_classes": [],
            "description": "",
            "_model_name": "HTMLModel",
            "placeholder": "​",
            "_view_module": "@jupyter-widgets/controls",
            "_model_module_version": "1.5.0",
            "value": "100%",
            "_view_count": null,
            "_view_module_version": "1.5.0",
            "description_tooltip": null,
            "_model_module": "@jupyter-widgets/controls",
            "layout": "IPY_MODEL_357d76a1f19047c98accea21f5621478"
          }
        },
        "9b335449d2684031a1f31a90fb34c52f": {
          "model_module": "@jupyter-widgets/controls",
          "model_name": "FloatProgressModel",
          "model_module_version": "1.5.0",
          "state": {
            "_view_name": "ProgressView",
            "style": "IPY_MODEL_22b34d9c6bfa446596d05119ef617304",
            "_dom_classes": [],
            "description": "",
            "_model_name": "FloatProgressModel",
            "bar_style": "success",
            "max": 2,
            "_view_module": "@jupyter-widgets/controls",
            "_model_module_version": "1.5.0",
            "value": 2,
            "_view_count": null,
            "_view_module_version": "1.5.0",
            "orientation": "horizontal",
            "min": 0,
            "description_tooltip": null,
            "_model_module": "@jupyter-widgets/controls",
            "layout": "IPY_MODEL_7fad54c0b98c46b09f486997876ec30d"
          }
        },
        "8b8630f0949a415a90ecc683b8a69ec7": {
          "model_module": "@jupyter-widgets/controls",
          "model_name": "HTMLModel",
          "model_module_version": "1.5.0",
          "state": {
            "_view_name": "HTMLView",
            "style": "IPY_MODEL_190b9875d6d44b9899e987945297bb6e",
            "_dom_classes": [],
            "description": "",
            "_model_name": "HTMLModel",
            "placeholder": "​",
            "_view_module": "@jupyter-widgets/controls",
            "_model_module_version": "1.5.0",
            "value": " 2/2 [00:00&lt;00:00, 25.85it/s]",
            "_view_count": null,
            "_view_module_version": "1.5.0",
            "description_tooltip": null,
            "_model_module": "@jupyter-widgets/controls",
            "layout": "IPY_MODEL_b7463a1be2af4b94ab910e0d945af210"
          }
        },
        "a700ef1aa5084184a04d975fc1ad1243": {
          "model_module": "@jupyter-widgets/controls",
          "model_name": "DescriptionStyleModel",
          "model_module_version": "1.5.0",
          "state": {
            "_view_name": "StyleView",
            "_model_name": "DescriptionStyleModel",
            "description_width": "",
            "_view_module": "@jupyter-widgets/base",
            "_model_module_version": "1.5.0",
            "_view_count": null,
            "_view_module_version": "1.2.0",
            "_model_module": "@jupyter-widgets/controls"
          }
        },
        "357d76a1f19047c98accea21f5621478": {
          "model_module": "@jupyter-widgets/base",
          "model_name": "LayoutModel",
          "model_module_version": "1.2.0",
          "state": {
            "_view_name": "LayoutView",
            "grid_template_rows": null,
            "right": null,
            "justify_content": null,
            "_view_module": "@jupyter-widgets/base",
            "overflow": null,
            "_model_module_version": "1.2.0",
            "_view_count": null,
            "flex_flow": null,
            "width": null,
            "min_width": null,
            "border": null,
            "align_items": null,
            "bottom": null,
            "_model_module": "@jupyter-widgets/base",
            "top": null,
            "grid_column": null,
            "overflow_y": null,
            "overflow_x": null,
            "grid_auto_flow": null,
            "grid_area": null,
            "grid_template_columns": null,
            "flex": null,
            "_model_name": "LayoutModel",
            "justify_items": null,
            "grid_row": null,
            "max_height": null,
            "align_content": null,
            "visibility": null,
            "align_self": null,
            "height": null,
            "min_height": null,
            "padding": null,
            "grid_auto_rows": null,
            "grid_gap": null,
            "max_width": null,
            "order": null,
            "_view_module_version": "1.2.0",
            "grid_template_areas": null,
            "object_position": null,
            "object_fit": null,
            "grid_auto_columns": null,
            "margin": null,
            "display": null,
            "left": null
          }
        },
        "22b34d9c6bfa446596d05119ef617304": {
          "model_module": "@jupyter-widgets/controls",
          "model_name": "ProgressStyleModel",
          "model_module_version": "1.5.0",
          "state": {
            "_view_name": "StyleView",
            "_model_name": "ProgressStyleModel",
            "description_width": "",
            "_view_module": "@jupyter-widgets/base",
            "_model_module_version": "1.5.0",
            "_view_count": null,
            "_view_module_version": "1.2.0",
            "bar_color": null,
            "_model_module": "@jupyter-widgets/controls"
          }
        },
        "7fad54c0b98c46b09f486997876ec30d": {
          "model_module": "@jupyter-widgets/base",
          "model_name": "LayoutModel",
          "model_module_version": "1.2.0",
          "state": {
            "_view_name": "LayoutView",
            "grid_template_rows": null,
            "right": null,
            "justify_content": null,
            "_view_module": "@jupyter-widgets/base",
            "overflow": null,
            "_model_module_version": "1.2.0",
            "_view_count": null,
            "flex_flow": null,
            "width": null,
            "min_width": null,
            "border": null,
            "align_items": null,
            "bottom": null,
            "_model_module": "@jupyter-widgets/base",
            "top": null,
            "grid_column": null,
            "overflow_y": null,
            "overflow_x": null,
            "grid_auto_flow": null,
            "grid_area": null,
            "grid_template_columns": null,
            "flex": null,
            "_model_name": "LayoutModel",
            "justify_items": null,
            "grid_row": null,
            "max_height": null,
            "align_content": null,
            "visibility": null,
            "align_self": null,
            "height": null,
            "min_height": null,
            "padding": null,
            "grid_auto_rows": null,
            "grid_gap": null,
            "max_width": null,
            "order": null,
            "_view_module_version": "1.2.0",
            "grid_template_areas": null,
            "object_position": null,
            "object_fit": null,
            "grid_auto_columns": null,
            "margin": null,
            "display": null,
            "left": null
          }
        },
        "190b9875d6d44b9899e987945297bb6e": {
          "model_module": "@jupyter-widgets/controls",
          "model_name": "DescriptionStyleModel",
          "model_module_version": "1.5.0",
          "state": {
            "_view_name": "StyleView",
            "_model_name": "DescriptionStyleModel",
            "description_width": "",
            "_view_module": "@jupyter-widgets/base",
            "_model_module_version": "1.5.0",
            "_view_count": null,
            "_view_module_version": "1.2.0",
            "_model_module": "@jupyter-widgets/controls"
          }
        },
        "b7463a1be2af4b94ab910e0d945af210": {
          "model_module": "@jupyter-widgets/base",
          "model_name": "LayoutModel",
          "model_module_version": "1.2.0",
          "state": {
            "_view_name": "LayoutView",
            "grid_template_rows": null,
            "right": null,
            "justify_content": null,
            "_view_module": "@jupyter-widgets/base",
            "overflow": null,
            "_model_module_version": "1.2.0",
            "_view_count": null,
            "flex_flow": null,
            "width": null,
            "min_width": null,
            "border": null,
            "align_items": null,
            "bottom": null,
            "_model_module": "@jupyter-widgets/base",
            "top": null,
            "grid_column": null,
            "overflow_y": null,
            "overflow_x": null,
            "grid_auto_flow": null,
            "grid_area": null,
            "grid_template_columns": null,
            "flex": null,
            "_model_name": "LayoutModel",
            "justify_items": null,
            "grid_row": null,
            "max_height": null,
            "align_content": null,
            "visibility": null,
            "align_self": null,
            "height": null,
            "min_height": null,
            "padding": null,
            "grid_auto_rows": null,
            "grid_gap": null,
            "max_width": null,
            "order": null,
            "_view_module_version": "1.2.0",
            "grid_template_areas": null,
            "object_position": null,
            "object_fit": null,
            "grid_auto_columns": null,
            "margin": null,
            "display": null,
            "left": null
          }
        }
      }
    }
  },
  "cells": [
    {
      "cell_type": "code",
      "metadata": {
        "colab": {
          "base_uri": "https://localhost:8080/"
        },
        "id": "0zxKOeyTROc2",
        "outputId": "e8716314-bb5b-4362-c96e-93a200ab94a7"
      },
      "source": [
        "!pip install torch torchvision torchaudio\n",
        "!pip install datasets transformers\n",
        "!pip install g2p_en praatio librosa"
      ],
      "execution_count": 1,
      "outputs": [
        {
          "output_type": "stream",
          "name": "stdout",
          "text": [
            "Requirement already satisfied: torch in /usr/local/lib/python3.7/dist-packages (1.9.0+cu111)\n",
            "Requirement already satisfied: torchvision in /usr/local/lib/python3.7/dist-packages (0.10.0+cu111)\n",
            "Requirement already satisfied: torchaudio in /usr/local/lib/python3.7/dist-packages (0.9.0)\n",
            "Requirement already satisfied: typing-extensions in /usr/local/lib/python3.7/dist-packages (from torch) (3.7.4.3)\n",
            "Requirement already satisfied: pillow>=5.3.0 in /usr/local/lib/python3.7/dist-packages (from torchvision) (7.1.2)\n",
            "Requirement already satisfied: numpy in /usr/local/lib/python3.7/dist-packages (from torchvision) (1.19.5)\n",
            "Requirement already satisfied: datasets in /usr/local/lib/python3.7/dist-packages (1.12.1)\n",
            "Requirement already satisfied: transformers in /usr/local/lib/python3.7/dist-packages (4.11.3)\n",
            "Requirement already satisfied: pyarrow!=4.0.0,>=1.0.0 in /usr/local/lib/python3.7/dist-packages (from datasets) (3.0.0)\n",
            "Requirement already satisfied: tqdm>=4.62.1 in /usr/local/lib/python3.7/dist-packages (from datasets) (4.62.3)\n",
            "Requirement already satisfied: huggingface-hub<0.1.0,>=0.0.14 in /usr/local/lib/python3.7/dist-packages (from datasets) (0.0.19)\n",
            "Requirement already satisfied: pandas in /usr/local/lib/python3.7/dist-packages (from datasets) (1.1.5)\n",
            "Requirement already satisfied: multiprocess in /usr/local/lib/python3.7/dist-packages (from datasets) (0.70.12.2)\n",
            "Requirement already satisfied: importlib-metadata in /usr/local/lib/python3.7/dist-packages (from datasets) (4.8.1)\n",
            "Requirement already satisfied: aiohttp in /usr/local/lib/python3.7/dist-packages (from datasets) (3.7.4.post0)\n",
            "Requirement already satisfied: dill in /usr/local/lib/python3.7/dist-packages (from datasets) (0.3.4)\n",
            "Requirement already satisfied: numpy>=1.17 in /usr/local/lib/python3.7/dist-packages (from datasets) (1.19.5)\n",
            "Requirement already satisfied: fsspec[http]>=2021.05.0 in /usr/local/lib/python3.7/dist-packages (from datasets) (2021.10.0)\n",
            "Requirement already satisfied: packaging in /usr/local/lib/python3.7/dist-packages (from datasets) (21.0)\n",
            "Requirement already satisfied: xxhash in /usr/local/lib/python3.7/dist-packages (from datasets) (2.0.2)\n",
            "Requirement already satisfied: requests>=2.19.0 in /usr/local/lib/python3.7/dist-packages (from datasets) (2.23.0)\n",
            "Requirement already satisfied: pyyaml in /usr/local/lib/python3.7/dist-packages (from huggingface-hub<0.1.0,>=0.0.14->datasets) (5.4.1)\n",
            "Requirement already satisfied: typing-extensions in /usr/local/lib/python3.7/dist-packages (from huggingface-hub<0.1.0,>=0.0.14->datasets) (3.7.4.3)\n",
            "Requirement already satisfied: filelock in /usr/local/lib/python3.7/dist-packages (from huggingface-hub<0.1.0,>=0.0.14->datasets) (3.3.0)\n",
            "Requirement already satisfied: pyparsing>=2.0.2 in /usr/local/lib/python3.7/dist-packages (from packaging->datasets) (2.4.7)\n",
            "Requirement already satisfied: chardet<4,>=3.0.2 in /usr/local/lib/python3.7/dist-packages (from requests>=2.19.0->datasets) (3.0.4)\n",
            "Requirement already satisfied: certifi>=2017.4.17 in /usr/local/lib/python3.7/dist-packages (from requests>=2.19.0->datasets) (2021.5.30)\n",
            "Requirement already satisfied: urllib3!=1.25.0,!=1.25.1,<1.26,>=1.21.1 in /usr/local/lib/python3.7/dist-packages (from requests>=2.19.0->datasets) (1.24.3)\n",
            "Requirement already satisfied: idna<3,>=2.5 in /usr/local/lib/python3.7/dist-packages (from requests>=2.19.0->datasets) (2.10)\n",
            "Requirement already satisfied: sacremoses in /usr/local/lib/python3.7/dist-packages (from transformers) (0.0.46)\n",
            "Requirement already satisfied: tokenizers<0.11,>=0.10.1 in /usr/local/lib/python3.7/dist-packages (from transformers) (0.10.3)\n",
            "Requirement already satisfied: regex!=2019.12.17 in /usr/local/lib/python3.7/dist-packages (from transformers) (2019.12.20)\n",
            "Requirement already satisfied: attrs>=17.3.0 in /usr/local/lib/python3.7/dist-packages (from aiohttp->datasets) (21.2.0)\n",
            "Requirement already satisfied: async-timeout<4.0,>=3.0 in /usr/local/lib/python3.7/dist-packages (from aiohttp->datasets) (3.0.1)\n",
            "Requirement already satisfied: yarl<2.0,>=1.0 in /usr/local/lib/python3.7/dist-packages (from aiohttp->datasets) (1.7.0)\n",
            "Requirement already satisfied: multidict<7.0,>=4.5 in /usr/local/lib/python3.7/dist-packages (from aiohttp->datasets) (5.2.0)\n",
            "Requirement already satisfied: zipp>=0.5 in /usr/local/lib/python3.7/dist-packages (from importlib-metadata->datasets) (3.6.0)\n",
            "Requirement already satisfied: pytz>=2017.2 in /usr/local/lib/python3.7/dist-packages (from pandas->datasets) (2018.9)\n",
            "Requirement already satisfied: python-dateutil>=2.7.3 in /usr/local/lib/python3.7/dist-packages (from pandas->datasets) (2.8.2)\n",
            "Requirement already satisfied: six>=1.5 in /usr/local/lib/python3.7/dist-packages (from python-dateutil>=2.7.3->pandas->datasets) (1.15.0)\n",
            "Requirement already satisfied: click in /usr/local/lib/python3.7/dist-packages (from sacremoses->transformers) (7.1.2)\n",
            "Requirement already satisfied: joblib in /usr/local/lib/python3.7/dist-packages (from sacremoses->transformers) (1.0.1)\n",
            "Requirement already satisfied: g2p_en in /usr/local/lib/python3.7/dist-packages (2.1.0)\n",
            "Requirement already satisfied: praatio in /usr/local/lib/python3.7/dist-packages (5.0.0)\n",
            "Requirement already satisfied: librosa in /usr/local/lib/python3.7/dist-packages (0.8.1)\n",
            "Requirement already satisfied: numpy>=1.13.1 in /usr/local/lib/python3.7/dist-packages (from g2p_en) (1.19.5)\n",
            "Requirement already satisfied: nltk>=3.2.4 in /usr/local/lib/python3.7/dist-packages (from g2p_en) (3.2.5)\n",
            "Requirement already satisfied: inflect>=0.3.1 in /usr/local/lib/python3.7/dist-packages (from g2p_en) (2.1.0)\n",
            "Requirement already satisfied: distance>=0.1.3 in /usr/local/lib/python3.7/dist-packages (from g2p_en) (0.1.3)\n",
            "Requirement already satisfied: six in /usr/local/lib/python3.7/dist-packages (from nltk>=3.2.4->g2p_en) (1.15.0)\n",
            "Requirement already satisfied: typing-extensions in /usr/local/lib/python3.7/dist-packages (from praatio) (3.7.4.3)\n",
            "Requirement already satisfied: numba>=0.43.0 in /usr/local/lib/python3.7/dist-packages (from librosa) (0.51.2)\n",
            "Requirement already satisfied: scipy>=1.0.0 in /usr/local/lib/python3.7/dist-packages (from librosa) (1.4.1)\n",
            "Requirement already satisfied: audioread>=2.0.0 in /usr/local/lib/python3.7/dist-packages (from librosa) (2.1.9)\n",
            "Requirement already satisfied: soundfile>=0.10.2 in /usr/local/lib/python3.7/dist-packages (from librosa) (0.10.3.post1)\n",
            "Requirement already satisfied: pooch>=1.0 in /usr/local/lib/python3.7/dist-packages (from librosa) (1.5.1)\n",
            "Requirement already satisfied: resampy>=0.2.2 in /usr/local/lib/python3.7/dist-packages (from librosa) (0.2.2)\n",
            "Requirement already satisfied: packaging>=20.0 in /usr/local/lib/python3.7/dist-packages (from librosa) (21.0)\n",
            "Requirement already satisfied: scikit-learn!=0.19.0,>=0.14.0 in /usr/local/lib/python3.7/dist-packages (from librosa) (0.22.2.post1)\n",
            "Requirement already satisfied: joblib>=0.14 in /usr/local/lib/python3.7/dist-packages (from librosa) (1.0.1)\n",
            "Requirement already satisfied: decorator>=3.0.0 in /usr/local/lib/python3.7/dist-packages (from librosa) (4.4.2)\n",
            "Requirement already satisfied: llvmlite<0.35,>=0.34.0.dev0 in /usr/local/lib/python3.7/dist-packages (from numba>=0.43.0->librosa) (0.34.0)\n",
            "Requirement already satisfied: setuptools in /usr/local/lib/python3.7/dist-packages (from numba>=0.43.0->librosa) (57.4.0)\n",
            "Requirement already satisfied: pyparsing>=2.0.2 in /usr/local/lib/python3.7/dist-packages (from packaging>=20.0->librosa) (2.4.7)\n",
            "Requirement already satisfied: requests in /usr/local/lib/python3.7/dist-packages (from pooch>=1.0->librosa) (2.23.0)\n",
            "Requirement already satisfied: appdirs in /usr/local/lib/python3.7/dist-packages (from pooch>=1.0->librosa) (1.4.4)\n",
            "Requirement already satisfied: cffi>=1.0 in /usr/local/lib/python3.7/dist-packages (from soundfile>=0.10.2->librosa) (1.14.6)\n",
            "Requirement already satisfied: pycparser in /usr/local/lib/python3.7/dist-packages (from cffi>=1.0->soundfile>=0.10.2->librosa) (2.20)\n",
            "Requirement already satisfied: certifi>=2017.4.17 in /usr/local/lib/python3.7/dist-packages (from requests->pooch>=1.0->librosa) (2021.5.30)\n",
            "Requirement already satisfied: urllib3!=1.25.0,!=1.25.1,<1.26,>=1.21.1 in /usr/local/lib/python3.7/dist-packages (from requests->pooch>=1.0->librosa) (1.24.3)\n",
            "Requirement already satisfied: idna<3,>=2.5 in /usr/local/lib/python3.7/dist-packages (from requests->pooch>=1.0->librosa) (2.10)\n",
            "Requirement already satisfied: chardet<4,>=3.0.2 in /usr/local/lib/python3.7/dist-packages (from requests->pooch>=1.0->librosa) (3.0.4)\n"
          ]
        }
      ]
    },
    {
      "cell_type": "code",
      "metadata": {
        "colab": {
          "base_uri": "https://localhost:8080/"
        },
        "id": "DIROcsj7Rv4g",
        "outputId": "fe14270c-f1be-4317-f8bf-8a0ceeff1e32"
      },
      "source": [
        "import os\n",
        "from os.path import exists, join, expanduser\n",
        "\n",
        "os.chdir(expanduser(\"~\"))\n",
        "charsiu_dir = 'charsiu'\n",
        "if exists(charsiu_dir):\n",
        "  !rm -rf /root/charsiu\n",
        "if not exists(charsiu_dir):\n",
        "  ! git clone -b development https://github.com/lingjzhu/$charsiu_dir\n",
        "  ! cd charsiu && git checkout && cd -\n",
        "  \n",
        "os.chdir(charsiu_dir)    "
      ],
      "execution_count": 2,
      "outputs": [
        {
          "output_type": "stream",
          "name": "stdout",
          "text": [
            "Cloning into 'charsiu'...\n",
            "remote: Enumerating objects: 172, done.\u001b[K\n",
            "remote: Counting objects:   0% (1/172)\u001b[K\rremote: Counting objects:   1% (2/172)\u001b[K\rremote: Counting objects:   2% (4/172)\u001b[K\rremote: Counting objects:   3% (6/172)\u001b[K\rremote: Counting objects:   4% (7/172)\u001b[K\rremote: Counting objects:   5% (9/172)\u001b[K\rremote: Counting objects:   6% (11/172)\u001b[K\rremote: Counting objects:   7% (13/172)\u001b[K\rremote: Counting objects:   8% (14/172)\u001b[K\rremote: Counting objects:   9% (16/172)\u001b[K\rremote: Counting objects:  10% (18/172)\u001b[K\rremote: Counting objects:  11% (19/172)\u001b[K\rremote: Counting objects:  12% (21/172)\u001b[K\rremote: Counting objects:  13% (23/172)\u001b[K\rremote: Counting objects:  14% (25/172)\u001b[K\rremote: Counting objects:  15% (26/172)\u001b[K\rremote: Counting objects:  16% (28/172)\u001b[K\rremote: Counting objects:  17% (30/172)\u001b[K\rremote: Counting objects:  18% (31/172)\u001b[K\rremote: Counting objects:  19% (33/172)\u001b[K\rremote: Counting objects:  20% (35/172)\u001b[K\rremote: Counting objects:  21% (37/172)\u001b[K\rremote: Counting objects:  22% (38/172)\u001b[K\rremote: Counting objects:  23% (40/172)\u001b[K\rremote: Counting objects:  24% (42/172)\u001b[K\rremote: Counting objects:  25% (43/172)\u001b[K\rremote: Counting objects:  26% (45/172)\u001b[K\rremote: Counting objects:  27% (47/172)\u001b[K\rremote: Counting objects:  28% (49/172)\u001b[K\rremote: Counting objects:  29% (50/172)\u001b[K\rremote: Counting objects:  30% (52/172)\u001b[K\rremote: Counting objects:  31% (54/172)\u001b[K\rremote: Counting objects:  32% (56/172)\u001b[K\rremote: Counting objects:  33% (57/172)\u001b[K\rremote: Counting objects:  34% (59/172)\u001b[K\rremote: Counting objects:  35% (61/172)\u001b[K\rremote: Counting objects:  36% (62/172)\u001b[K\rremote: Counting objects:  37% (64/172)\u001b[K\rremote: Counting objects:  38% (66/172)\u001b[K\rremote: Counting objects:  39% (68/172)\u001b[K\rremote: Counting objects:  40% (69/172)\u001b[K\rremote: Counting objects:  41% (71/172)\u001b[K\rremote: Counting objects:  42% (73/172)\u001b[K\rremote: Counting objects:  43% (74/172)\u001b[K\rremote: Counting objects:  44% (76/172)\u001b[K\rremote: Counting objects:  45% (78/172)\u001b[K\rremote: Counting objects:  46% (80/172)\u001b[K\rremote: Counting objects:  47% (81/172)\u001b[K\rremote: Counting objects:  48% (83/172)\u001b[K\rremote: Counting objects:  49% (85/172)\u001b[K\rremote: Counting objects:  50% (86/172)\u001b[K\rremote: Counting objects:  51% (88/172)\u001b[K\rremote: Counting objects:  52% (90/172)\u001b[K\rremote: Counting objects:  53% (92/172)\u001b[K\rremote: Counting objects:  54% (93/172)\u001b[K\rremote: Counting objects:  55% (95/172)\u001b[K\rremote: Counting objects:  56% (97/172)\u001b[K\rremote: Counting objects:  57% (99/172)\u001b[K\rremote: Counting objects:  58% (100/172)\u001b[K\rremote: Counting objects:  59% (102/172)\u001b[K\rremote: Counting objects:  60% (104/172)\u001b[K\rremote: Counting objects:  61% (105/172)\u001b[K\rremote: Counting objects:  62% (107/172)\u001b[K\rremote: Counting objects:  63% (109/172)\u001b[K\rremote: Counting objects:  64% (111/172)\u001b[K\rremote: Counting objects:  65% (112/172)\u001b[K\rremote: Counting objects:  66% (114/172)\u001b[K\rremote: Counting objects:  67% (116/172)\u001b[K\rremote: Counting objects:  68% (117/172)\u001b[K\rremote: Counting objects:  69% (119/172)\u001b[K\rremote: Counting objects:  70% (121/172)\u001b[K\rremote: Counting objects:  71% (123/172)\u001b[K\rremote: Counting objects:  72% (124/172)\u001b[K\rremote: Counting objects:  73% (126/172)\u001b[K\rremote: Counting objects:  74% (128/172)\u001b[K\rremote: Counting objects:  75% (129/172)\u001b[K\rremote: Counting objects:  76% (131/172)\u001b[K\rremote: Counting objects:  77% (133/172)\u001b[K\rremote: Counting objects:  78% (135/172)\u001b[K\rremote: Counting objects:  79% (136/172)\u001b[K\rremote: Counting objects:  80% (138/172)\u001b[K\rremote: Counting objects:  81% (140/172)\u001b[K\rremote: Counting objects:  82% (142/172)\u001b[K\rremote: Counting objects:  83% (143/172)\u001b[K\rremote: Counting objects:  84% (145/172)\u001b[K\rremote: Counting objects:  85% (147/172)\u001b[K\rremote: Counting objects:  86% (148/172)\u001b[K\rremote: Counting objects:  87% (150/172)\u001b[K\rremote: Counting objects:  88% (152/172)\u001b[K\rremote: Counting objects:  89% (154/172)\u001b[K\rremote: Counting objects:  90% (155/172)\u001b[K\rremote: Counting objects:  91% (157/172)\u001b[K\rremote: Counting objects:  92% (159/172)\u001b[K\rremote: Counting objects:  93% (160/172)\u001b[K\rremote: Counting objects:  94% (162/172)\u001b[K\rremote: Counting objects:  95% (164/172)\u001b[K\rremote: Counting objects:  96% (166/172)\u001b[K\rremote: Counting objects:  97% (167/172)\u001b[K\rremote: Counting objects:  98% (169/172)\u001b[K\rremote: Counting objects:  99% (171/172)\u001b[K\rremote: Counting objects: 100% (172/172)\u001b[K\rremote: Counting objects: 100% (172/172), done.\u001b[K\n",
            "remote: Compressing objects:   0% (1/141)\u001b[K\rremote: Compressing objects:   1% (2/141)\u001b[K\rremote: Compressing objects:   2% (3/141)\u001b[K\rremote: Compressing objects:   3% (5/141)\u001b[K\rremote: Compressing objects:   4% (6/141)\u001b[K\rremote: Compressing objects:   5% (8/141)\u001b[K\rremote: Compressing objects:   6% (9/141)\u001b[K\rremote: Compressing objects:   7% (10/141)\u001b[K\rremote: Compressing objects:   8% (12/141)\u001b[K\rremote: Compressing objects:   9% (13/141)\u001b[K\rremote: Compressing objects:  10% (15/141)\u001b[K\rremote: Compressing objects:  11% (16/141)\u001b[K\rremote: Compressing objects:  12% (17/141)\u001b[K\rremote: Compressing objects:  13% (19/141)\u001b[K\rremote: Compressing objects:  14% (20/141)\u001b[K\rremote: Compressing objects:  15% (22/141)\u001b[K\rremote: Compressing objects:  16% (23/141)\u001b[K\rremote: Compressing objects:  17% (24/141)\u001b[K\rremote: Compressing objects:  18% (26/141)\u001b[K\rremote: Compressing objects:  19% (27/141)\u001b[K\rremote: Compressing objects:  20% (29/141)\u001b[K\rremote: Compressing objects:  21% (30/141)\u001b[K\rremote: Compressing objects:  22% (32/141)\u001b[K\rremote: Compressing objects:  23% (33/141)\u001b[K\rremote: Compressing objects:  24% (34/141)\u001b[K\rremote: Compressing objects:  25% (36/141)\u001b[K\rremote: Compressing objects:  26% (37/141)\u001b[K\rremote: Compressing objects:  27% (39/141)\u001b[K\rremote: Compressing objects:  28% (40/141)\u001b[K\rremote: Compressing objects:  29% (41/141)\u001b[K\rremote: Compressing objects:  30% (43/141)\u001b[K\rremote: Compressing objects:  31% (44/141)\u001b[K\rremote: Compressing objects:  32% (46/141)\u001b[K\rremote: Compressing objects:  33% (47/141)\u001b[K\rremote: Compressing objects:  34% (48/141)\u001b[K\rremote: Compressing objects:  35% (50/141)\u001b[K\rremote: Compressing objects:  36% (51/141)\u001b[K\rremote: Compressing objects:  37% (53/141)\u001b[K\rremote: Compressing objects:  38% (54/141)\u001b[K\rremote: Compressing objects:  39% (55/141)\u001b[K\rremote: Compressing objects:  40% (57/141)\u001b[K\rremote: Compressing objects:  41% (58/141)\u001b[K\rremote: Compressing objects:  42% (60/141)\u001b[K\rremote: Compressing objects:  43% (61/141)\u001b[K\rremote: Compressing objects:  44% (63/141)\u001b[K\rremote: Compressing objects:  45% (64/141)\u001b[K\rremote: Compressing objects:  46% (65/141)\u001b[K\rremote: Compressing objects:  47% (67/141)\u001b[K\rremote: Compressing objects:  48% (68/141)\u001b[K\rremote: Compressing objects:  49% (70/141)\u001b[K\rremote: Compressing objects:  50% (71/141)\u001b[K\rremote: Compressing objects:  51% (72/141)\u001b[K\rremote: Compressing objects:  52% (74/141)\u001b[K\rremote: Compressing objects:  53% (75/141)\u001b[K\rremote: Compressing objects:  54% (77/141)\u001b[K\rremote: Compressing objects:  55% (78/141)\u001b[K\rremote: Compressing objects:  56% (79/141)\u001b[K\rremote: Compressing objects:  57% (81/141)\u001b[K\rremote: Compressing objects:  58% (82/141)\u001b[K\rremote: Compressing objects:  59% (84/141)\u001b[K\rremote: Compressing objects:  60% (85/141)\u001b[K\rremote: Compressing objects:  61% (87/141)\u001b[K\rremote: Compressing objects:  62% (88/141)\u001b[K\rremote: Compressing objects:  63% (89/141)\u001b[K\rremote: Compressing objects:  64% (91/141)\u001b[K\rremote: Compressing objects:  65% (92/141)\u001b[K\rremote: Compressing objects:  66% (94/141)\u001b[K\rremote: Compressing objects:  67% (95/141)\u001b[K\rremote: Compressing objects:  68% (96/141)\u001b[K\rremote: Compressing objects:  69% (98/141)\u001b[K\rremote: Compressing objects:  70% (99/141)\u001b[K\rremote: Compressing objects:  71% (101/141)\u001b[K\rremote: Compressing objects:  72% (102/141)\u001b[K\rremote: Compressing objects:  73% (103/141)\u001b[K\rremote: Compressing objects:  74% (105/141)\u001b[K\rremote: Compressing objects:  75% (106/141)\u001b[K\rremote: Compressing objects:  76% (108/141)\u001b[K\rremote: Compressing objects:  77% (109/141)\u001b[K\rremote: Compressing objects:  78% (110/141)\u001b[K\rremote: Compressing objects:  79% (112/141)\u001b[K\rremote: Compressing objects:  80% (113/141)\u001b[K\rremote: Compressing objects:  81% (115/141)\u001b[K\rremote: Compressing objects:  82% (116/141)\u001b[K\rremote: Compressing objects:  83% (118/141)\u001b[K\rremote: Compressing objects:  84% (119/141)\u001b[K\rremote: Compressing objects:  85% (120/141)\u001b[K\rremote: Compressing objects:  86% (122/141)\u001b[K\rremote: Compressing objects:  87% (123/141)\u001b[K\rremote: Compressing objects:  88% (125/141)\u001b[K\rremote: Compressing objects:  89% (126/141)\u001b[K\rremote: Compressing objects:  90% (127/141)\u001b[K\rremote: Compressing objects:  91% (129/141)\u001b[K\rremote: Compressing objects:  92% (130/141)\u001b[K\rremote: Compressing objects:  93% (132/141)\u001b[K\rremote: Compressing objects:  94% (133/141)\u001b[K\rremote: Compressing objects:  95% (134/141)\u001b[K\rremote: Compressing objects:  96% (136/141)\u001b[K\rremote: Compressing objects:  97% (137/141)\u001b[K\rremote: Compressing objects:  98% (139/141)\u001b[K\rremote: Compressing objects:  99% (140/141)\u001b[K\rremote: Compressing objects: 100% (141/141)\u001b[K\rremote: Compressing objects: 100% (141/141), done.\u001b[K\n",
            "Receiving objects:   0% (1/172)   \rReceiving objects:   1% (2/172)   \rReceiving objects:   2% (4/172)   \rReceiving objects:   3% (6/172)   \rReceiving objects:   4% (7/172)   \rReceiving objects:   5% (9/172)   \rReceiving objects:   6% (11/172)   \rReceiving objects:   7% (13/172)   \rReceiving objects:   8% (14/172)   \rReceiving objects:   9% (16/172)   \rReceiving objects:  10% (18/172)   \rReceiving objects:  11% (19/172)   \rReceiving objects:  12% (21/172)   \rReceiving objects:  13% (23/172)   \rReceiving objects:  14% (25/172)   \rReceiving objects:  15% (26/172)   \rReceiving objects:  16% (28/172)   \rReceiving objects:  17% (30/172)   \rReceiving objects:  18% (31/172)   \rReceiving objects:  19% (33/172)   \rReceiving objects:  20% (35/172)   \rReceiving objects:  21% (37/172)   \rReceiving objects:  22% (38/172)   \rReceiving objects:  23% (40/172)   \rReceiving objects:  24% (42/172)   \rReceiving objects:  25% (43/172)   \rReceiving objects:  26% (45/172)   \rReceiving objects:  27% (47/172)   \rReceiving objects:  28% (49/172)   \rReceiving objects:  29% (50/172)   \rReceiving objects:  30% (52/172)   \rReceiving objects:  31% (54/172)   \rReceiving objects:  32% (56/172)   \rremote: Total 172 (delta 67), reused 107 (delta 27), pack-reused 0\u001b[K\n",
            "Receiving objects:  33% (57/172)   \rReceiving objects:  34% (59/172)   \rReceiving objects:  35% (61/172)   \rReceiving objects:  36% (62/172)   \rReceiving objects:  37% (64/172)   \rReceiving objects:  38% (66/172)   \rReceiving objects:  39% (68/172)   \rReceiving objects:  40% (69/172)   \rReceiving objects:  41% (71/172)   \rReceiving objects:  42% (73/172)   \rReceiving objects:  43% (74/172)   \rReceiving objects:  44% (76/172)   \rReceiving objects:  45% (78/172)   \rReceiving objects:  46% (80/172)   \rReceiving objects:  47% (81/172)   \rReceiving objects:  48% (83/172)   \rReceiving objects:  49% (85/172)   \rReceiving objects:  50% (86/172)   \rReceiving objects:  51% (88/172)   \rReceiving objects:  52% (90/172)   \rReceiving objects:  53% (92/172)   \rReceiving objects:  54% (93/172)   \rReceiving objects:  55% (95/172)   \rReceiving objects:  56% (97/172)   \rReceiving objects:  57% (99/172)   \rReceiving objects:  58% (100/172)   \rReceiving objects:  59% (102/172)   \rReceiving objects:  60% (104/172)   \rReceiving objects:  61% (105/172)   \rReceiving objects:  62% (107/172)   \rReceiving objects:  63% (109/172)   \rReceiving objects:  64% (111/172)   \rReceiving objects:  65% (112/172)   \rReceiving objects:  66% (114/172)   \rReceiving objects:  67% (116/172)   \rReceiving objects:  68% (117/172)   \rReceiving objects:  69% (119/172)   \rReceiving objects:  70% (121/172)   \rReceiving objects:  71% (123/172)   \rReceiving objects:  72% (124/172)   \rReceiving objects:  73% (126/172)   \rReceiving objects:  74% (128/172)   \rReceiving objects:  75% (129/172)   \rReceiving objects:  76% (131/172)   \rReceiving objects:  77% (133/172)   \rReceiving objects:  78% (135/172)   \rReceiving objects:  79% (136/172)   \rReceiving objects:  80% (138/172)   \rReceiving objects:  81% (140/172)   \rReceiving objects:  82% (142/172)   \rReceiving objects:  83% (143/172)   \rReceiving objects:  84% (145/172)   \rReceiving objects:  85% (147/172)   \rReceiving objects:  86% (148/172)   \rReceiving objects:  87% (150/172)   \rReceiving objects:  88% (152/172)   \rReceiving objects:  89% (154/172)   \rReceiving objects:  90% (155/172)   \rReceiving objects:  91% (157/172)   \rReceiving objects:  92% (159/172)   \rReceiving objects:  93% (160/172)   \rReceiving objects:  94% (162/172)   \rReceiving objects:  95% (164/172)   \rReceiving objects:  96% (166/172)   \rReceiving objects:  97% (167/172)   \rReceiving objects:  98% (169/172)   \rReceiving objects:  99% (171/172)   \rReceiving objects: 100% (172/172)   \rReceiving objects: 100% (172/172), 67.79 KiB | 6.16 MiB/s, done.\n",
            "Resolving deltas:   0% (0/67)   \rResolving deltas:  29% (20/67)   \rResolving deltas:  64% (43/67)   \rResolving deltas:  76% (51/67)   \rResolving deltas:  91% (61/67)   \rResolving deltas:  92% (62/67)   \rResolving deltas:  95% (64/67)   \rResolving deltas:  97% (65/67)   \rResolving deltas: 100% (67/67)   \rResolving deltas: 100% (67/67), done.\n",
            "Your branch is up to date with 'origin/development'.\n",
            "/root\n"
          ]
        }
      ]
    },
    {
      "cell_type": "code",
      "metadata": {
        "id": "gkLwVK8xtPSr",
        "outputId": "5f2973c8-fcaf-442d-d83c-378322e48091",
        "colab": {
          "base_uri": "https://localhost:8080/"
        }
      },
      "source": [
        "!ls"
      ],
      "execution_count": 3,
      "outputs": [
        {
          "output_type": "stream",
          "name": "stdout",
          "text": [
            "charsiu_demo.ipynb  LICENSE  local  README.md  src\n"
          ]
        }
      ]
    },
    {
      "cell_type": "code",
      "metadata": {
        "colab": {
          "base_uri": "https://localhost:8080/"
        },
        "id": "GmHNb4OxRVD8",
        "outputId": "c2e58f31-6c85-4f56-c49e-ca0fe67aef38"
      },
      "source": [
        "import sys\n",
        "import torch\n",
        "from datasets import load_dataset\n",
        "import matplotlib.pyplot as plt\n",
        "sys.path.append('src/')\n",
        "#sys.path.insert(0,'src')\n",
        "from models import Wav2Vec2ForAttentionAlignment, Wav2Vec2ForFrameClassification\n",
        "from utils import get_phones, get_phone_ids,audio_preprocess,seq2duration,mapping_id2phone,forced_align\n"
      ],
      "execution_count": 3,
      "outputs": [
        {
          "output_type": "stream",
          "name": "stdout",
          "text": [
            "[nltk_data] Downloading package averaged_perceptron_tagger to\n",
            "[nltk_data]     /root/nltk_data...\n",
            "[nltk_data]   Package averaged_perceptron_tagger is already up-to-\n",
            "[nltk_data]       date!\n",
            "[nltk_data] Downloading package cmudict to /root/nltk_data...\n",
            "[nltk_data]   Package cmudict is already up-to-date!\n"
          ]
        }
      ]
    },
    {
      "cell_type": "code",
      "metadata": {
        "id": "N2wZBRx_WOfv"
      },
      "source": [
        "device = 'cuda' if torch.cuda.is_available() else 'cpu'"
      ],
      "execution_count": 4,
      "outputs": []
    },
    {
      "cell_type": "code",
      "metadata": {
        "colab": {
          "base_uri": "https://localhost:8080/",
          "height": 87,
          "referenced_widgets": [
            "e9106d4fd53d40848983eedf4201f3b1",
            "eb1f0de5b796495e97232425d569d35b",
            "d023cce86be547b1b76003f90c781ddc",
            "9b335449d2684031a1f31a90fb34c52f",
            "8b8630f0949a415a90ecc683b8a69ec7",
            "a700ef1aa5084184a04d975fc1ad1243",
            "357d76a1f19047c98accea21f5621478",
            "22b34d9c6bfa446596d05119ef617304",
            "7fad54c0b98c46b09f486997876ec30d",
            "190b9875d6d44b9899e987945297bb6e",
            "b7463a1be2af4b94ab910e0d945af210"
          ]
        },
        "id": "q7paWfYdROc5",
        "outputId": "e0412574-56ab-466e-8002-b20165128385"
      },
      "source": [
        "# download timit\n",
        "timit = load_dataset('timit_asr')"
      ],
      "execution_count": 5,
      "outputs": [
        {
          "output_type": "stream",
          "name": "stderr",
          "text": [
            "Reusing dataset timit_asr (/root/.cache/huggingface/datasets/timit_asr/clean/2.0.1/bce749dca50ede2d9692e53bf7eede501996e25b8aa318280ec9041a9f4c3057)\n"
          ]
        },
        {
          "output_type": "display_data",
          "data": {
            "application/vnd.jupyter.widget-view+json": {
              "model_id": "e9106d4fd53d40848983eedf4201f3b1",
              "version_minor": 0,
              "version_major": 2
            },
            "text/plain": [
              "  0%|          | 0/2 [00:00<?, ?it/s]"
            ]
          },
          "metadata": {}
        }
      ]
    },
    {
      "cell_type": "markdown",
      "metadata": {
        "id": "zYUK0SUKxtt_"
      },
      "source": [
        "Forced alignment with a neural forced alignment model"
      ]
    },
    {
      "cell_type": "code",
      "metadata": {
        "colab": {
          "base_uri": "https://localhost:8080/"
        },
        "id": "yHW92QgDROc4",
        "outputId": "0ca49076-c353-4d20-a29d-cac7d6921c61"
      },
      "source": [
        "# load model\n",
        "model = Wav2Vec2ForAttentionAlignment.from_pretrained('charsiu/en_w2v2_fs_10ms').to(device).eval()"
      ],
      "execution_count": null,
      "outputs": [
        {
          "output_type": "stream",
          "name": "stderr",
          "text": [
            "/usr/local/lib/python3.7/dist-packages/transformers/configuration_utils.py:337: UserWarning: Passing `gradient_checkpointing` to a config initialization is deprecated and will be removed in v5 Transformers. Using `model.gradient_checkpointing_enable()` instead, or if you are using the `Trainer` API, pass `gradient_checkpointing=True` in your `TrainingArguments`.\n",
            "  \"Passing `gradient_checkpointing` to a config initialization is deprecated and will be removed in v5 \"\n"
          ]
        }
      ]
    },
    {
      "cell_type": "code",
      "metadata": {
        "colab": {
          "base_uri": "https://localhost:8080/"
        },
        "id": "gJkF2z91ROc5",
        "outputId": "637964f5-4811-4bce-a35b-c1d9f7af80fd"
      },
      "source": [
        "sample = timit['train'][0]\n",
        "phones = get_phones(sample['text'])\n",
        "print('Text transcription:%s'%(sample['text']))\n",
        "print('Phone transcription: %s'%phones)"
      ],
      "execution_count": null,
      "outputs": [
        {
          "output_type": "stream",
          "name": "stdout",
          "text": [
            "Text transcription:Would such an act of refusal be useful?\n",
            "Phone transcription: ['W', 'UH', 'D', ' ', 'S', 'AH', 'CH', ' ', 'AE', 'N', ' ', 'AE', 'K', 'T', ' ', 'AH', 'V', ' ', 'R', 'AH', 'F', 'Y', 'UW', 'Z', 'AH', 'L', ' ', 'B', 'IY', ' ', 'Y', 'UW', 'S', 'F', 'AH', 'L', ' ', '?']\n"
          ]
        }
      ]
    },
    {
      "cell_type": "code",
      "metadata": {
        "colab": {
          "base_uri": "https://localhost:8080/"
        },
        "id": "5R2M4YMHUf-X",
        "outputId": "25f3f7c3-10f9-48d6-d93f-489d24384ecf"
      },
      "source": [
        "audio = audio_preprocess(sample['file'])\n",
        "phone_ids = get_phone_ids(phones)\n",
        "batch = {'input_values':torch.tensor(audio).float().unsqueeze(0).to(device),\n",
        "         'attention_mask': torch.ones(1,len(audio)),\n",
        "         'labels': torch.tensor(phone_ids).unsqueeze(0).long().to(device),\n",
        "         'labels_attention_mask':torch.ones(1,len(phone_ids)).to(device),\n",
        "         'text_len':torch.tensor([len(phone_ids)]).to(device)\n",
        "        }\n",
        "\n",
        "with torch.no_grad():\n",
        "  out = model(**batch)\n",
        "att = torch.softmax(out.logits,dim=-1),"
      ],
      "execution_count": null,
      "outputs": [
        {
          "output_type": "stream",
          "name": "stderr",
          "text": [
            "/usr/local/lib/python3.7/dist-packages/ipykernel_launcher.py:3: UserWarning: To copy construct from a tensor, it is recommended to use sourceTensor.clone().detach() or sourceTensor.clone().detach().requires_grad_(True), rather than torch.tensor(sourceTensor).\n",
            "  This is separate from the ipykernel package so we can avoid doing imports until\n",
            "/usr/local/lib/python3.7/dist-packages/torch/_tensor.py:575: UserWarning: floor_divide is deprecated, and will be removed in a future version of pytorch. It currently rounds toward 0 (like the 'trunc' function NOT 'floor'). This results in incorrect rounding for negative values.\n",
            "To keep the current behavior, use torch.div(a, b, rounding_mode='trunc'), or for actual floor division, use torch.div(a, b, rounding_mode='floor'). (Triggered internally at  /pytorch/aten/src/ATen/native/BinaryOps.cpp:467.)\n",
            "  return torch.floor_divide(self, other)\n"
          ]
        }
      ]
    },
    {
      "cell_type": "code",
      "metadata": {
        "colab": {
          "base_uri": "https://localhost:8080/",
          "height": 111
        },
        "id": "nBk58zHAX26e",
        "outputId": "50b4fe05-96fb-4d11-d4f4-fa29e4faf56e"
      },
      "source": [
        "plt.imshow(att[0].squeeze().cpu().detach().transpose(1,0).numpy())"
      ],
      "execution_count": null,
      "outputs": [
        {
          "output_type": "execute_result",
          "data": {
            "text/plain": [
              "<matplotlib.image.AxesImage at 0x7f20018a1b50>"
            ]
          },
          "metadata": {},
          "execution_count": 9
        },
        {
          "output_type": "display_data",
          "data": {
            "image/png": "[encoded data removed]",
            "text/plain": [
              "<Figure size 432x288 with 1 Axes>"
            ]
          },
          "metadata": {
            "needs_background": "light"
          }
        }
      ]
    },
    {
      "cell_type": "code",
      "metadata": {
        "colab": {
          "base_uri": "https://localhost:8080/"
        },
        "id": "yCmbdfpzXrQ3",
        "outputId": "543830c1-47d2-4a95-9fff-690a5c85989f"
      },
      "source": [
        "preds = torch.argmax(att[0],dim=-1).cpu().detach().squeeze().numpy()\n",
        "pred_phones = [mapping_id2phone[phone_ids[i]] for i in preds]\n",
        "print(seq2duration(pred_phones,resolution=0.01))\n",
        "print('\\\\n Ground Truth \\\\n')\n",
        "print([(s/16000,e/16000,p) for s,e,p in zip(sample['phonetic_detail']['start'],sample['phonetic_detail']['stop'],sample['phonetic_detail']['utterance'])])"
      ],
      "execution_count": null,
      "outputs": [
        {
          "output_type": "stream",
          "name": "stdout",
          "text": [
            "[(0.0, 0.11, '[SIL]'), (0.11, 0.15, 'W'), (0.15, 0.2, 'UH'), (0.2, 0.27, 'D'), (0.27, 0.38, 'S'), (0.38, 0.49, 'AH'), (0.49, 0.57, 'CH'), (0.57, 0.63, 'AE'), (0.63, 0.69, 'N'), (0.69, 0.83, 'AE'), (0.83, 0.94, 'K'), (0.94, 1.0, 'T'), (1.0, 1.05, 'AH'), (1.05, 1.12, 'V'), (1.12, 1.19, 'R'), (1.19, 1.24, 'AH'), (1.24, 1.34, 'F'), (1.34, 1.43, 'Y'), (1.43, 1.5, 'UW'), (1.5, 1.58, 'Z'), (1.58, 1.64, 'AH'), (1.64, 1.73, 'L'), (1.73, 1.8, 'B'), (1.8, 1.91, 'IY'), (1.91, 2.02, 'Y'), (2.02, 2.09, 'UW'), (2.09, 2.17, 'S'), (2.17, 2.24, 'F'), (2.24, 2.31, 'AH'), (2.31, 2.41, 'L'), (2.41, 2.48, '[SIL]')]\n",
            "\\n Ground Truth \\n\n",
            "[(0.0, 0.1225, 'h#'), (0.1225, 0.154125, 'w'), (0.154125, 0.2175, 'ix'), (0.2175, 0.25, 'dcl'), (0.25, 0.3725, 's'), (0.3725, 0.4675, 'ah'), (0.4675, 0.4925, 'tcl'), (0.4925, 0.5875, 'ch'), (0.5875, 0.6225, 'ix'), (0.6225, 0.6675, 'n'), (0.6675, 0.8425, 'ae'), (0.8425, 0.98, 'kcl'), (0.98, 0.9925, 't'), (0.9925, 1.0575, 'ix'), (1.0575, 1.1435625, 'v'), (1.1435625, 1.180125, 'r'), (1.180125, 1.2175, 'ix'), (1.2175, 1.3576875, 'f'), (1.3576875, 1.40725, 'y'), (1.40725, 1.5025, 'ux'), (1.5025, 1.574375, 'zh'), (1.574375, 1.6925, 'el'), (1.6925, 1.76, 'bcl'), (1.76, 1.785, 'b'), (1.785, 1.8825, 'iy'), (1.8825, 1.9895, 'y'), (1.9895, 2.0775, 'ux'), (2.0775, 2.165, 's'), (2.165, 2.248, 'f'), (2.248, 2.3575, 'el'), (2.3575, 2.495, 'h#')]\n"
          ]
        }
      ]
    },
    {
      "cell_type": "markdown",
      "metadata": {
        "id": "swtLnWRlvTdr"
      },
      "source": [
        "Forced Alignment with Frame Classification Model"
      ]
    },
    {
      "cell_type": "code",
      "metadata": {
        "id": "8mKL4RzfuP2a",
        "outputId": "e4174f2d-c891-4c8b-e765-85327adf3d22",
        "colab": {
          "base_uri": "https://localhost:8080/"
        }
      },
      "source": [
        "model = Wav2Vec2ForFrameClassification.from_pretrained('charsiu/en_w2v2_fc_10ms').eval().to(device)"
      ],
      "execution_count": 6,
      "outputs": [
        {
          "output_type": "stream",
          "name": "stderr",
          "text": [
            "/usr/local/lib/python3.7/dist-packages/transformers/configuration_utils.py:337: UserWarning: Passing `gradient_checkpointing` to a config initialization is deprecated and will be removed in v5 Transformers. Using `model.gradient_checkpointing_enable()` instead, or if you are using the `Trainer` API, pass `gradient_checkpointing=True` in your `TrainingArguments`.\n",
            "  \"Passing `gradient_checkpointing` to a config initialization is deprecated and will be removed in v5 \"\n"
          ]
        }
      ]
    },
    {
      "cell_type": "code",
      "metadata": {
        "id": "tHhEVix-ugEU",
        "outputId": "79c8bb5e-7ad9-40e6-baed-98d35de143a0",
        "colab": {
          "base_uri": "https://localhost:8080/"
        }
      },
      "source": [
        "sample = timit['train'][0]\n",
        "phones = get_phones(sample['text'])\n",
        "print('Text transcription:%s'%(sample['text']))\n",
        "print('Phone transcription: %s'%phones)"
      ],
      "execution_count": 7,
      "outputs": [
        {
          "output_type": "stream",
          "name": "stdout",
          "text": [
            "Text transcription:Would such an act of refusal be useful?\n",
            "Phone transcription: ['W', 'UH', 'D', ' ', 'S', 'AH', 'CH', ' ', 'AE', 'N', ' ', 'AE', 'K', 'T', ' ', 'AH', 'V', ' ', 'R', 'AH', 'F', 'Y', 'UW', 'Z', 'AH', 'L', ' ', 'B', 'IY', ' ', 'Y', 'UW', 'S', 'F', 'AH', 'L', ' ', '?']\n"
          ]
        }
      ]
    },
    {
      "cell_type": "code",
      "metadata": {
        "id": "m-SpQfeIvnBu"
      },
      "source": [
        "  sample_audio = audio_preprocess(sample['file'],sr=16000)\n",
        "  sample_audio = torch.Tensor(sample_audio).unsqueeze(0).to(device)\n",
        "  with torch.no_grad():\n",
        "      out = model(sample_audio)\n",
        "  cost = torch.softmax(out.logits,dim=-1).detach().cpu().numpy().squeeze()"
      ],
      "execution_count": 8,
      "outputs": []
    },
    {
      "cell_type": "code",
      "metadata": {
        "id": "lbbV0gpuvJW2",
        "outputId": "b98d30f2-3fee-4c4b-acad-e0dc2cf73ad6",
        "colab": {
          "base_uri": "https://localhost:8080/"
        }
      },
      "source": [
        "phone_ids = get_phone_ids(phones)\n",
        "aligned_phone_ids = forced_align(cost,phone_ids)\n",
        "\n",
        "aligned_phones = [mapping_id2phone[phone_ids[i]] for i in align_ids]\n",
        "print(seq2duration(aligned_phones,resolution=0.01))\n",
        "print('\\\\n Ground Truth \\\\n')\n",
        "print([(s/16000,e/16000,p) for s,e,p in zip(sample['phonetic_detail']['start'],sample['phonetic_detail']['stop'],sample['phonetic_detail']['utterance'])])"
      ],
      "execution_count": 11,
      "outputs": [
        {
          "output_type": "stream",
          "name": "stdout",
          "text": [
            "[(0.0, 0.08, '[SIL]'), (0.08, 0.15, 'W'), (0.15, 0.19, 'UH'), (0.19, 0.24, 'D'), (0.24, 0.38, 'S'), (0.38, 0.46, 'AH'), (0.46, 0.58, 'CH'), (0.58, 0.6, 'AE'), (0.6, 0.68, 'N'), (0.68, 0.82, 'AE'), (0.82, 0.93, 'K'), (0.93, 0.99, 'T'), (0.99, 1.04, 'AH'), (1.04, 1.13, 'V'), (1.13, 1.17, 'R'), (1.17, 1.22, 'AH'), (1.22, 1.33, 'F'), (1.33, 1.41, 'Y'), (1.41, 1.48, 'UW'), (1.48, 1.53, 'Z'), (1.53, 1.62, 'AH'), (1.62, 1.68, 'L'), (1.68, 1.78, 'B'), (1.78, 1.88, 'IY'), (1.88, 1.99, 'Y'), (1.99, 2.08, 'UW'), (2.08, 2.13, 'S'), (2.13, 2.23, 'F'), (2.23, 2.27, 'AH'), (2.27, 2.47, 'L'), (2.47, 2.48, '[SIL]')]\n",
            "\\n Ground Truth \\n\n",
            "[(0.0, 0.1225, 'h#'), (0.1225, 0.154125, 'w'), (0.154125, 0.2175, 'ix'), (0.2175, 0.25, 'dcl'), (0.25, 0.3725, 's'), (0.3725, 0.4675, 'ah'), (0.4675, 0.4925, 'tcl'), (0.4925, 0.5875, 'ch'), (0.5875, 0.6225, 'ix'), (0.6225, 0.6675, 'n'), (0.6675, 0.8425, 'ae'), (0.8425, 0.98, 'kcl'), (0.98, 0.9925, 't'), (0.9925, 1.0575, 'ix'), (1.0575, 1.1435625, 'v'), (1.1435625, 1.180125, 'r'), (1.180125, 1.2175, 'ix'), (1.2175, 1.3576875, 'f'), (1.3576875, 1.40725, 'y'), (1.40725, 1.5025, 'ux'), (1.5025, 1.574375, 'zh'), (1.574375, 1.6925, 'el'), (1.6925, 1.76, 'bcl'), (1.76, 1.785, 'b'), (1.785, 1.8825, 'iy'), (1.8825, 1.9895, 'y'), (1.9895, 2.0775, 'ux'), (2.0775, 2.165, 's'), (2.165, 2.248, 'f'), (2.248, 2.3575, 'el'), (2.3575, 2.495, 'h#')]\n"
          ]
        }
      ]
    }
  ]
}